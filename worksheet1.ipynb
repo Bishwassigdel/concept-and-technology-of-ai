{
  "nbformat": 4,
  "nbformat_minor": 0,
  "metadata": {
    "colab": {
      "provenance": []
    },
    "kernelspec": {
      "name": "python3",
      "display_name": "Python 3"
    },
    "language_info": {
      "name": "python"
    }
  },
  "cells": [
    {
      "cell_type": "markdown",
      "source": [
        "Question 1"
      ],
      "metadata": {
        "id": "_CZwO9yn9fkO"
      }
    },
    {
      "cell_type": "code",
      "execution_count": 1,
      "metadata": {
        "id": "8PizoFt07_fs"
      },
      "outputs": [],
      "source": [
        "import numpy as np"
      ]
    },
    {
      "cell_type": "markdown",
      "source": [
        "Question 2"
      ],
      "metadata": {
        "id": "LROUOrZz9lZU"
      }
    },
    {
      "cell_type": "code",
      "source": [
        "x = np.empty((3,3))\n",
        "x"
      ],
      "metadata": {
        "colab": {
          "base_uri": "https://localhost:8080/"
        },
        "id": "Hw1R93iq9n40",
        "outputId": "6b1086be-4fe0-4dfe-d198-25c3cf991cf9"
      },
      "execution_count": 3,
      "outputs": [
        {
          "output_type": "execute_result",
          "data": {
            "text/plain": [
              "array([[4.88507891e-310, 0.00000000e+000, 0.00000000e+000],\n",
              "       [0.00000000e+000, 0.00000000e+000, 0.00000000e+000],\n",
              "       [0.00000000e+000, 0.00000000e+000, 0.00000000e+000]])"
            ]
          },
          "metadata": {},
          "execution_count": 3
        }
      ]
    },
    {
      "cell_type": "markdown",
      "source": [
        "question 3"
      ],
      "metadata": {
        "id": "WwEHMuyD9y0V"
      }
    },
    {
      "cell_type": "code",
      "source": [
        "x = np.ones((6,2))\n",
        "x"
      ],
      "metadata": {
        "colab": {
          "base_uri": "https://localhost:8080/"
        },
        "id": "2vGeFsxa90-E",
        "outputId": "b26e3efa-fa80-44a1-d832-d6d2757cc9ae"
      },
      "execution_count": 4,
      "outputs": [
        {
          "output_type": "execute_result",
          "data": {
            "text/plain": [
              "array([[1., 1.],\n",
              "       [1., 1.],\n",
              "       [1., 1.],\n",
              "       [1., 1.],\n",
              "       [1., 1.],\n",
              "       [1., 1.]])"
            ]
          },
          "metadata": {},
          "execution_count": 4
        }
      ]
    },
    {
      "cell_type": "markdown",
      "source": [
        "Question 4"
      ],
      "metadata": {
        "id": "GAe8hgOz97jE"
      }
    },
    {
      "cell_type": "code",
      "source": [
        "x=np.full((4,3),3)"
      ],
      "metadata": {
        "id": "H4dQhkpx99dL"
      },
      "execution_count": 5,
      "outputs": []
    },
    {
      "cell_type": "markdown",
      "source": [
        "question 5"
      ],
      "metadata": {
        "id": "gJ0lNeB9-aMF"
      }
    },
    {
      "cell_type": "code",
      "source": [
        "p=np.arange(6).reshape(2,3)\n",
        "a=np.zeros_like(p)\n",
        "a"
      ],
      "metadata": {
        "colab": {
          "base_uri": "https://localhost:8080/"
        },
        "id": "QHC3gGEJ-dUL",
        "outputId": "ef3bfb16-67ee-4de2-9ea9-5585a9e5a49c"
      },
      "execution_count": 6,
      "outputs": [
        {
          "output_type": "execute_result",
          "data": {
            "text/plain": [
              "array([[0, 0, 0],\n",
              "       [0, 0, 0]])"
            ]
          },
          "metadata": {},
          "execution_count": 6
        }
      ]
    },
    {
      "cell_type": "markdown",
      "source": [
        "question 6"
      ],
      "metadata": {
        "id": "XaD_Q9QW-g5D"
      }
    },
    {
      "cell_type": "code",
      "source": [
        "p=np.arange(8).reshape(2,4)\n",
        "x=np.ones_like(p)\n",
        "x"
      ],
      "metadata": {
        "colab": {
          "base_uri": "https://localhost:8080/"
        },
        "id": "3MoMF5VT-jKT",
        "outputId": "79a3e9e5-92a3-4900-847e-b9f4a1fd3278"
      },
      "execution_count": 7,
      "outputs": [
        {
          "output_type": "execute_result",
          "data": {
            "text/plain": [
              "array([[1, 1, 1, 1],\n",
              "       [1, 1, 1, 1]])"
            ]
          },
          "metadata": {},
          "execution_count": 7
        }
      ]
    },
    {
      "cell_type": "markdown",
      "source": [
        "question 7"
      ],
      "metadata": {
        "id": "CW9iIR4I-nuy"
      }
    },
    {
      "cell_type": "code",
      "source": [
        "new_list=[1,2,3,4]\n",
        "K=np.array(new_list)\n",
        "K"
      ],
      "metadata": {
        "colab": {
          "base_uri": "https://localhost:8080/"
        },
        "id": "rQolCJAq-p0V",
        "outputId": "c8db4355-e61d-4a5b-f0d9-d11ebf520ddb"
      },
      "execution_count": 8,
      "outputs": [
        {
          "output_type": "execute_result",
          "data": {
            "text/plain": [
              "array([1, 2, 3, 4])"
            ]
          },
          "metadata": {},
          "execution_count": 8
        }
      ]
    },
    {
      "cell_type": "markdown",
      "source": [
        "question 8"
      ],
      "metadata": {
        "id": "CiG1PNuP-vPj"
      }
    },
    {
      "cell_type": "code",
      "source": [
        "b=np.arange(10,50)\n",
        "b"
      ],
      "metadata": {
        "colab": {
          "base_uri": "https://localhost:8080/"
        },
        "id": "-bzMeQ1L-w4b",
        "outputId": "75d03cb8-9f8d-4c23-8b3c-a53cb23473e8"
      },
      "execution_count": 9,
      "outputs": [
        {
          "output_type": "execute_result",
          "data": {
            "text/plain": [
              "array([10, 11, 12, 13, 14, 15, 16, 17, 18, 19, 20, 21, 22, 23, 24, 25, 26,\n",
              "       27, 28, 29, 30, 31, 32, 33, 34, 35, 36, 37, 38, 39, 40, 41, 42, 43,\n",
              "       44, 45, 46, 47, 48, 49])"
            ]
          },
          "metadata": {},
          "execution_count": 9
        }
      ]
    },
    {
      "cell_type": "markdown",
      "source": [
        "question 9"
      ],
      "metadata": {
        "id": "VV31SojL-05s"
      }
    },
    {
      "cell_type": "code",
      "source": [
        "b=np.arange(0,9).reshape(3,3)\n",
        "b"
      ],
      "metadata": {
        "colab": {
          "base_uri": "https://localhost:8080/"
        },
        "id": "BB6K6jZS-217",
        "outputId": "14bda932-3592-40ad-9f03-ae363272290d"
      },
      "execution_count": 10,
      "outputs": [
        {
          "output_type": "execute_result",
          "data": {
            "text/plain": [
              "array([[0, 1, 2],\n",
              "       [3, 4, 5],\n",
              "       [6, 7, 8]])"
            ]
          },
          "metadata": {},
          "execution_count": 10
        }
      ]
    },
    {
      "cell_type": "markdown",
      "source": [
        "question 10"
      ],
      "metadata": {
        "id": "P_08nwwY-5iR"
      }
    },
    {
      "cell_type": "code",
      "source": [
        "b=np.eye(3)\n",
        "b"
      ],
      "metadata": {
        "colab": {
          "base_uri": "https://localhost:8080/"
        },
        "id": "ZHFMXlVq-767",
        "outputId": "eec077ab-b28e-492d-fef3-1c33b543cab1"
      },
      "execution_count": 11,
      "outputs": [
        {
          "output_type": "execute_result",
          "data": {
            "text/plain": [
              "array([[1., 0., 0.],\n",
              "       [0., 1., 0.],\n",
              "       [0., 0., 1.]])"
            ]
          },
          "metadata": {},
          "execution_count": 11
        }
      ]
    },
    {
      "cell_type": "markdown",
      "source": [
        "question 11"
      ],
      "metadata": {
        "id": "GXIj6get_A-c"
      }
    },
    {
      "cell_type": "code",
      "source": [
        "x = np.random.random(30)\n",
        "mean = x.mean()\n",
        "\n",
        "print(\"array given: \", x)\n",
        "print(\"Mean  : \", mean)"
      ],
      "metadata": {
        "colab": {
          "base_uri": "https://localhost:8080/"
        },
        "id": "VPaaATWv_Cf6",
        "outputId": "27e98361-855a-4fba-a56a-8e5eee514915"
      },
      "execution_count": 12,
      "outputs": [
        {
          "output_type": "stream",
          "name": "stdout",
          "text": [
            "array given:  [0.17130095 0.93065661 0.21659829 0.56637729 0.34228874 0.42976771\n",
            " 0.72830568 0.49572542 0.11460324 0.93139361 0.02639317 0.53779488\n",
            " 0.99485655 0.18002691 0.55842981 0.34269108 0.82565526 0.13080594\n",
            " 0.3471098  0.4745845  0.65109492 0.302003   0.50279783 0.84160181\n",
            " 0.4971625  0.72956168 0.58231018 0.15060928 0.23349841 0.45782434]\n",
            "Mean  :  0.476460979582878\n"
          ]
        }
      ]
    },
    {
      "cell_type": "markdown",
      "source": [
        "question 12"
      ],
      "metadata": {
        "id": "mAbVM7wH_Fvj"
      }
    },
    {
      "cell_type": "code",
      "source": [
        "b=np.random.random((10,10))\n",
        "min=b.min()\n",
        "max=b.max()\n",
        "print(\"Array: \", b)\n",
        "print(\"Min:\", min)\n",
        "print(\"Max:\", max)"
      ],
      "metadata": {
        "colab": {
          "base_uri": "https://localhost:8080/"
        },
        "id": "Mj0eU5qk_Icq",
        "outputId": "97111e99-54f2-4fb6-9a06-c48674123e4f"
      },
      "execution_count": 13,
      "outputs": [
        {
          "output_type": "stream",
          "name": "stdout",
          "text": [
            "Array:  [[0.11911559 0.19700056 0.53129437 0.26729404 0.00464911 0.29720388\n",
            "  0.44936034 0.44434852 0.87890439 0.55800982]\n",
            " [0.29962567 0.17931397 0.79837488 0.12605809 0.89849301 0.02353333\n",
            "  0.32817334 0.08496365 0.71349557 0.17097847]\n",
            " [0.56315304 0.09073405 0.56112492 0.62067496 0.15079669 0.8124329\n",
            "  0.86483438 0.71794721 0.78483929 0.92310387]\n",
            " [0.52684448 0.51730475 0.08495593 0.77441465 0.75274687 0.10894526\n",
            "  0.67620327 0.53232759 0.93838972 0.8949346 ]\n",
            " [0.62068261 0.58550638 0.13574149 0.79486576 0.83343209 0.10632381\n",
            "  0.73320791 0.69303652 0.85376528 0.45163144]\n",
            " [0.98721083 0.54906885 0.26591489 0.81733055 0.32053316 0.97957826\n",
            "  0.99672944 0.01224867 0.37384985 0.10854604]\n",
            " [0.17656257 0.47358305 0.06589738 0.48864305 0.07690714 0.65161321\n",
            "  0.46206449 0.05736146 0.26426862 0.95912151]\n",
            " [0.05594762 0.36456464 0.4464307  0.36456605 0.24499659 0.25451102\n",
            "  0.95091069 0.17270373 0.24372367 0.2349072 ]\n",
            " [0.90735483 0.28899021 0.64437112 0.97602115 0.12652407 0.6023855\n",
            "  0.50864022 0.58884568 0.20237711 0.39777338]\n",
            " [0.08050822 0.04144109 0.3890934  0.63231834 0.68356683 0.17618911\n",
            "  0.54698416 0.14380676 0.46917536 0.07893815]]\n",
            "Min: 0.0046491127190272374\n",
            "Max: 0.9967294411838551\n"
          ]
        }
      ]
    },
    {
      "cell_type": "markdown",
      "source": [
        "question 13"
      ],
      "metadata": {
        "id": "1eQVWERo_Lpl"
      }
    },
    {
      "cell_type": "code",
      "source": [
        "b=np.zeros(10)\n",
        "b[4]=1\n",
        "print(\"Updated :\", b)"
      ],
      "metadata": {
        "colab": {
          "base_uri": "https://localhost:8080/"
        },
        "id": "H1jnkxtv_NgD",
        "outputId": "f2c6d380-626d-4ec8-c7e7-b86e4daeca51"
      },
      "execution_count": 14,
      "outputs": [
        {
          "output_type": "stream",
          "name": "stdout",
          "text": [
            "Updated : [0. 0. 0. 0. 1. 0. 0. 0. 0. 0.]\n"
          ]
        }
      ]
    },
    {
      "cell_type": "markdown",
      "source": [
        "question 14"
      ],
      "metadata": {
        "id": "AhKFve_L_Qh7"
      }
    },
    {
      "cell_type": "code",
      "source": [
        "b=np.array([1,2,0,0,4,0])\n",
        "rev=b[::-1]\n",
        "print(\"Original: \", b)\n",
        "print(\"reversed: \", rev)"
      ],
      "metadata": {
        "colab": {
          "base_uri": "https://localhost:8080/"
        },
        "id": "EI9DBD7k_ScD",
        "outputId": "8ad37c5c-cc30-4fb6-e726-675ef393a0c8"
      },
      "execution_count": 15,
      "outputs": [
        {
          "output_type": "stream",
          "name": "stdout",
          "text": [
            "Original:  [1 2 0 0 4 0]\n",
            "reversed:  [0 4 0 0 2 1]\n"
          ]
        }
      ]
    },
    {
      "cell_type": "markdown",
      "source": [
        "question 15"
      ],
      "metadata": {
        "id": "L7tMtWRX_VZD"
      }
    },
    {
      "cell_type": "code",
      "source": [
        "b=np.zeros((5,5),dtype=int)\n",
        "b[0,:]=1 #top\n",
        "b[-1,:]=1 #bottom\n",
        "b[:,0]=1 #left\n",
        "b[:,-1]=1 #right\n",
        "print(\"1 on border and 0 inside : \",b)\n"
      ],
      "metadata": {
        "colab": {
          "base_uri": "https://localhost:8080/"
        },
        "id": "9pCIlCn6_XfL",
        "outputId": "1f731ded-b854-4c3f-f854-ee1e660350f8"
      },
      "execution_count": 16,
      "outputs": [
        {
          "output_type": "stream",
          "name": "stdout",
          "text": [
            "1 on border and 0 inside :  [[1 1 1 1 1]\n",
            " [1 0 0 0 1]\n",
            " [1 0 0 0 1]\n",
            " [1 0 0 0 1]\n",
            " [1 1 1 1 1]]\n"
          ]
        }
      ]
    },
    {
      "cell_type": "markdown",
      "source": [
        "question 16"
      ],
      "metadata": {
        "id": "41-WmtyU_a6G"
      }
    },
    {
      "cell_type": "code",
      "source": [
        "b=np.zeros((8,8))\n",
        "b[1::2,::2]=1\n",
        "b[::2,1::2]=1\n",
        "b"
      ],
      "metadata": {
        "colab": {
          "base_uri": "https://localhost:8080/"
        },
        "id": "Dfb4L2Am_c80",
        "outputId": "0abceb5c-9b5a-41e8-ec60-fd03c1f4f05e"
      },
      "execution_count": 17,
      "outputs": [
        {
          "output_type": "execute_result",
          "data": {
            "text/plain": [
              "array([[0., 1., 0., 1., 0., 1., 0., 1.],\n",
              "       [1., 0., 1., 0., 1., 0., 1., 0.],\n",
              "       [0., 1., 0., 1., 0., 1., 0., 1.],\n",
              "       [1., 0., 1., 0., 1., 0., 1., 0.],\n",
              "       [0., 1., 0., 1., 0., 1., 0., 1.],\n",
              "       [1., 0., 1., 0., 1., 0., 1., 0.],\n",
              "       [0., 1., 0., 1., 0., 1., 0., 1.],\n",
              "       [1., 0., 1., 0., 1., 0., 1., 0.]])"
            ]
          },
          "metadata": {},
          "execution_count": 17
        }
      ]
    },
    {
      "cell_type": "markdown",
      "source": [
        "question 17"
      ],
      "metadata": {
        "id": "NB2W81Sn_f9h"
      }
    },
    {
      "cell_type": "code",
      "source": [
        "x=np.array([[1,2],[3,5]])\n",
        "y=np.array([[5,6],[7,8]])\n",
        "x3 = np.array([9,10])\n",
        "y3 = np.array([11,12])\n",
        "print(\"x: \\n\",x)\n",
        "print(\"y: \\n\",y)\n",
        "add=x+y\n",
        "add3=x3+y3\n",
        "print(\"Adding x+y: \\n\",add)\n",
        "print(\"x3: \\n\",x3)\n",
        "print(\"y3: \\n\",y3)\n",
        "print(\"adding x3+y3: \",add3)"
      ],
      "metadata": {
        "colab": {
          "base_uri": "https://localhost:8080/"
        },
        "id": "tLWIEuxU_hyC",
        "outputId": "699c348e-26d7-48cf-8dbd-a8c23872cac3"
      },
      "execution_count": 18,
      "outputs": [
        {
          "output_type": "stream",
          "name": "stdout",
          "text": [
            "x: \n",
            " [[1 2]\n",
            " [3 5]]\n",
            "y: \n",
            " [[5 6]\n",
            " [7 8]]\n",
            "Adding x+y: \n",
            " [[ 6  8]\n",
            " [10 13]]\n",
            "x3: \n",
            " [ 9 10]\n",
            "y3: \n",
            " [11 12]\n",
            "adding x3+y3:  [20 22]\n"
          ]
        }
      ]
    },
    {
      "cell_type": "markdown",
      "source": [
        "question 18"
      ],
      "metadata": {
        "id": "QE-WIhKu_nzU"
      }
    },
    {
      "cell_type": "code",
      "source": [
        "sub=x-y\n",
        "sub3=x3-y3\n",
        "print(\"subtracting y from x: \",sub)\n",
        "print(\"subtracting y3 from x3: \",sub3)"
      ],
      "metadata": {
        "colab": {
          "base_uri": "https://localhost:8080/"
        },
        "id": "5TvgdX6P_qFK",
        "outputId": "6fb9c2db-84c4-4b40-a227-264ceb819173"
      },
      "execution_count": 19,
      "outputs": [
        {
          "output_type": "stream",
          "name": "stdout",
          "text": [
            "subtracting y from x:  [[-4 -4]\n",
            " [-4 -3]]\n",
            "subtracting y3 from x3:  [-2 -2]\n"
          ]
        }
      ]
    },
    {
      "cell_type": "markdown",
      "source": [
        "question 19"
      ],
      "metadata": {
        "id": "_mt4hjY0_vwd"
      }
    },
    {
      "cell_type": "code",
      "source": [
        "mul_x=x*2\n",
        "mul_x\n",
        "mul_y=y*2\n",
        "mul_y\n",
        "mul_x3=x3*2\n",
        "mul_x3\n",
        "mul_y3=y3*2\n",
        "mul_y3"
      ],
      "metadata": {
        "colab": {
          "base_uri": "https://localhost:8080/"
        },
        "id": "50tF_qzF_xji",
        "outputId": "9991c95a-c132-47dc-b659-7b64b89efb43"
      },
      "execution_count": 20,
      "outputs": [
        {
          "output_type": "execute_result",
          "data": {
            "text/plain": [
              "array([22, 24])"
            ]
          },
          "metadata": {},
          "execution_count": 20
        }
      ]
    },
    {
      "cell_type": "markdown",
      "source": [
        "question 20"
      ],
      "metadata": {
        "id": "LgkA4l-h_1vK"
      }
    },
    {
      "cell_type": "code",
      "source": [
        "sq_x=np.square(x)\n",
        "print(\"squaring x: \\n\",sq_x )\n",
        "sq_y=np.square(y)\n",
        "print(\"squaring y: \\n\",sq_y )\n",
        "sq_x3=np.square(x3)\n",
        "print(\"squaring x3: \\n\",sq_x3 )\n",
        "sq_y3=np.square(y3)\n",
        "print(\"squaring y3: \\n\",sq_y3 )"
      ],
      "metadata": {
        "colab": {
          "base_uri": "https://localhost:8080/"
        },
        "id": "wkLuU-Ap_4Wk",
        "outputId": "ac7ad81e-5988-44dd-a4a9-696c5997255a"
      },
      "execution_count": 21,
      "outputs": [
        {
          "output_type": "stream",
          "name": "stdout",
          "text": [
            "squaring x: \n",
            " [[ 1  4]\n",
            " [ 9 25]]\n",
            "squaring y: \n",
            " [[25 36]\n",
            " [49 64]]\n",
            "squaring x3: \n",
            " [ 81 100]\n",
            "squaring y3: \n",
            " [121 144]\n"
          ]
        }
      ]
    },
    {
      "cell_type": "markdown",
      "source": [
        "question 21"
      ],
      "metadata": {
        "id": "ZxoW76FI_8Hi"
      }
    },
    {
      "cell_type": "code",
      "source": [
        "result = np.dot(x3, y3)\n",
        "result\n",
        "result_1 = np.dot(x, x3)\n",
        "result_1\n",
        "result_2 = np.dot(x, y)\n",
        "result_2"
      ],
      "metadata": {
        "colab": {
          "base_uri": "https://localhost:8080/"
        },
        "id": "zG01-Zrp__GD",
        "outputId": "8bafda4a-08b9-4c0c-9fba-faa3b38abc96"
      },
      "execution_count": 22,
      "outputs": [
        {
          "output_type": "execute_result",
          "data": {
            "text/plain": [
              "array([[19, 22],\n",
              "       [50, 58]])"
            ]
          },
          "metadata": {},
          "execution_count": 22
        }
      ]
    },
    {
      "cell_type": "markdown",
      "source": [
        "question 22"
      ],
      "metadata": {
        "id": "UaK4B2SyACz7"
      }
    },
    {
      "cell_type": "code",
      "source": [
        "a=np.concatenate((x,y),axis=1)\n",
        "print(a)\n",
        "a=np.vstack((x3,y3))\n",
        "print(a)"
      ],
      "metadata": {
        "colab": {
          "base_uri": "https://localhost:8080/"
        },
        "id": "9cVQB8y7AE6D",
        "outputId": "2b1c5a65-7c9a-4479-f83a-9d9272525611"
      },
      "execution_count": 23,
      "outputs": [
        {
          "output_type": "stream",
          "name": "stdout",
          "text": [
            "[[1 2 5 6]\n",
            " [3 5 7 8]]\n",
            "[[ 9 10]\n",
            " [11 12]]\n"
          ]
        }
      ]
    },
    {
      "cell_type": "markdown",
      "source": [
        "question 23"
      ],
      "metadata": {
        "id": "72KteUVNBkML"
      }
    },
    {
      "cell_type": "code",
      "source": [
        "x = np.array([[1, 2, 3], [4, 5, 6]])\n",
        "x3 = np.array([[7, 8, 9]])\n",
        "\n",
        "\n",
        "result = np.concatenate((x, x3), axis=0)\n",
        "print(\"Concatenation result:\\n\", result)"
      ],
      "metadata": {
        "colab": {
          "base_uri": "https://localhost:8080/"
        },
        "id": "qVBOR7P8BmQI",
        "outputId": "0953dec6-6911-42d8-e72a-f3ece2097bd9"
      },
      "execution_count": 25,
      "outputs": [
        {
          "output_type": "stream",
          "name": "stdout",
          "text": [
            "Concatenation result:\n",
            " [[1 2 3]\n",
            " [4 5 6]\n",
            " [7 8 9]]\n"
          ]
        }
      ]
    },
    {
      "cell_type": "markdown",
      "source": [
        "question 24"
      ],
      "metadata": {
        "id": "K8laMrl2CHsE"
      }
    },
    {
      "cell_type": "code",
      "source": [
        "\n",
        "A1=np.array([[3,4],[7,8]])\n",
        "B1=np.array([[5,3],[2,1]])\n",
        "A_inverse=np.linalg.inv(A1)\n",
        "result=np.dot(A1,A_inverse)\n",
        "identity_matrix=np.eye(2)\n",
        "print(\"Matrix A1:\\n\", A1)\n",
        "print(\"Inverse of A1 (A^-1):\\n\", A_inverse)\n",
        "print(\"Product of A1 and A^-1 (A.A^-1):\\n\", result)\n",
        "print(\"Identity Matrix:\\n\", identity_matrix)\n",
        "y=np.allclose(result,identity_matrix)\n",
        "print(\"Is A.A^-1 equal to identity matrix?->\",y)"
      ],
      "metadata": {
        "colab": {
          "base_uri": "https://localhost:8080/"
        },
        "id": "zKI6WAUOCJpE",
        "outputId": "cc582d4b-518c-4629-a9a2-8778d24795da"
      },
      "execution_count": 26,
      "outputs": [
        {
          "output_type": "stream",
          "name": "stdout",
          "text": [
            "Matrix A1:\n",
            " [[3 4]\n",
            " [7 8]]\n",
            "Inverse of A1 (A^-1):\n",
            " [[-2.    1.  ]\n",
            " [ 1.75 -0.75]]\n",
            "Product of A1 and A^-1 (A.A^-1):\n",
            " [[1.00000000e+00 0.00000000e+00]\n",
            " [1.77635684e-15 1.00000000e+00]]\n",
            "Identity Matrix:\n",
            " [[1. 0.]\n",
            " [0. 1.]]\n",
            "Is A.A^-1 equal to identity matrix?-> True\n"
          ]
        }
      ]
    },
    {
      "cell_type": "markdown",
      "source": [
        "question 25"
      ],
      "metadata": {
        "id": "hj8Xg0hjCOKu"
      }
    },
    {
      "cell_type": "code",
      "source": [
        "A1B1 = np.dot(A1, B1)\n",
        "B1A1 = np.dot(B1, A1)\n",
        "print(\"A1B1 (A1 * B1):\\n\", A1B1)\n",
        "print(\"B1A1 (B1 * A1):\\n\", B1A1)\n",
        "are_equal=np.array_equal(A1B1,B1A1)\n",
        "print(\" Is A1B1 = B1A1? \",are_equal)"
      ],
      "metadata": {
        "colab": {
          "base_uri": "https://localhost:8080/"
        },
        "id": "owatj9w3CQrj",
        "outputId": "e9eb8c6e-1993-4f57-ec45-be28f105897c"
      },
      "execution_count": 27,
      "outputs": [
        {
          "output_type": "stream",
          "name": "stdout",
          "text": [
            "A1B1 (A1 * B1):\n",
            " [[23 13]\n",
            " [51 29]]\n",
            "B1A1 (B1 * A1):\n",
            " [[36 44]\n",
            " [13 16]]\n",
            " Is A1B1 = B1A1?  False\n"
          ]
        }
      ]
    },
    {
      "cell_type": "markdown",
      "source": [],
      "metadata": {
        "id": "auluV3m4_vtH"
      }
    },
    {
      "cell_type": "markdown",
      "source": [
        "question 26"
      ],
      "metadata": {
        "id": "YYHecDEPCUXt"
      }
    },
    {
      "cell_type": "code",
      "source": [
        "A1 = np.array([[1, 2], [3, 4]])\n",
        "B1 = np.array([[5, 6], [7, 8]])\n",
        "AB=np.dot(A1,B1)\n",
        "AB_T=AB.T\n",
        "B_T=B1.T\n",
        "A_T=A1.T\n",
        "BT_AT=np.dot(B_T,A_T)\n",
        "print(\"AB:\\n\", AB)\n",
        "print(\"(AB)^T:\\n\", AB_T)\n",
        "print(\"B^T:\\n\", B_T)\n",
        "print(\"A^T:\\n\", A_T)\n",
        "print(\"B^T * A^T:\\n\", BT_AT)\n",
        "is_equal=np.array_equal(AB_T,BT_AT)\n",
        "print(\"Is (AB)^T equal to B^T * A^T? \", is_equal)"
      ],
      "metadata": {
        "colab": {
          "base_uri": "https://localhost:8080/"
        },
        "id": "zJzd9jhsCXOK",
        "outputId": "56c8ec68-a1e7-4c01-ca9c-9e4f9c29a1d7"
      },
      "execution_count": 28,
      "outputs": [
        {
          "output_type": "stream",
          "name": "stdout",
          "text": [
            "AB:\n",
            " [[19 22]\n",
            " [43 50]]\n",
            "(AB)^T:\n",
            " [[19 43]\n",
            " [22 50]]\n",
            "B^T:\n",
            " [[5 7]\n",
            " [6 8]]\n",
            "A^T:\n",
            " [[1 3]\n",
            " [2 4]]\n",
            "B^T * A^T:\n",
            " [[19 43]\n",
            " [22 50]]\n",
            "Is (AB)^T equal to B^T * A^T?  True\n"
          ]
        }
      ]
    },
    {
      "cell_type": "markdown",
      "source": [
        "question 27"
      ],
      "metadata": {
        "id": "6DvQdjvgCbRv"
      }
    },
    {
      "cell_type": "code",
      "source": [
        "A1=np.array([[2,-3,1], [1,-1,2], [3,1,-1]])\n",
        "B1=np.array([-1,-3,9])\n",
        "A_inverse=np.linalg.inv(A1)\n",
        "x=np.dot(A_inverse,B1)\n",
        "print( A1)\n",
        "print( B1)\n",
        "print( A_inverse)\n",
        "print( x)"
      ],
      "metadata": {
        "colab": {
          "base_uri": "https://localhost:8080/"
        },
        "id": "VhV19qcnCd67",
        "outputId": "b2327dca-8eb1-439c-b2ec-06c2ebd9b1c6"
      },
      "execution_count": 29,
      "outputs": [
        {
          "output_type": "stream",
          "name": "stdout",
          "text": [
            "[[ 2 -3  1]\n",
            " [ 1 -1  2]\n",
            " [ 3  1 -1]]\n",
            "[-1 -3  9]\n",
            "[[ 0.05263158  0.10526316  0.26315789]\n",
            " [-0.36842105  0.26315789  0.15789474]\n",
            " [-0.21052632  0.57894737 -0.05263158]]\n",
            "[ 2.  1. -2.]\n"
          ]
        }
      ]
    },
    {
      "cell_type": "markdown",
      "source": [
        "question 28"
      ],
      "metadata": {
        "id": "pJeBerAoChX4"
      }
    },
    {
      "cell_type": "code",
      "source": [
        "\n",
        "import time\n",
        "l3=list(range(1,1000001))\n",
        "l4=list(range(1,1000001))\n",
        "start_time= time.time()\n",
        "result_list=[a+b for a, b in zip(l3,l4)]\n",
        "python_time=time.time()-start_time\n",
        "print(\" Python lists time:\", python_time, \"seconds\")\n",
        "#numpy arrays:\n",
        "a3=np.arange(1,1000001)\n",
        "a4=np.arange(1,1000001)\n",
        "\n",
        "start_time=time.time()\n",
        "result_array=a3+a4\n",
        "numpy_time=time.time()-start_time\n",
        "print(\" NumPy arrays time:\", numpy_time, \"seconds\")\n"
      ],
      "metadata": {
        "colab": {
          "base_uri": "https://localhost:8080/"
        },
        "id": "IViERwttCjkx",
        "outputId": "728b3cf8-5616-4fee-9dd7-b8333bc0f629"
      },
      "execution_count": 30,
      "outputs": [
        {
          "output_type": "stream",
          "name": "stdout",
          "text": [
            " Python lists time: 0.10822582244873047 seconds\n",
            " NumPy arrays time: 0.003948688507080078 seconds\n"
          ]
        }
      ]
    },
    {
      "cell_type": "markdown",
      "source": [
        "question 29"
      ],
      "metadata": {
        "id": "nqV8tmcJCo_L"
      }
    },
    {
      "cell_type": "code",
      "source": [
        "\n",
        "start_time=time.time()\n",
        "result_list=[a*b for a,b in zip(l3,l4)]\n",
        "python_time=time.time()-start_time\n",
        "print(\"multiplication using Python lists time:\", python_time, \"seconds\")\n",
        "\n",
        "start_time = time.time()\n",
        "result_array = a3 * a4\n",
        "numpy_time = time.time() - start_time\n",
        "print(\" multiplication using NumPy arrays:\", numpy_time, \"seconds\")"
      ],
      "metadata": {
        "colab": {
          "base_uri": "https://localhost:8080/"
        },
        "id": "gCGDx3qZCq-J",
        "outputId": "a6e6ce83-034a-439e-ab2d-cc664e703070"
      },
      "execution_count": 31,
      "outputs": [
        {
          "output_type": "stream",
          "name": "stdout",
          "text": [
            "multiplication using Python lists time: 0.10672330856323242 seconds\n",
            " multiplication using NumPy arrays: 0.005113363265991211 seconds\n"
          ]
        }
      ]
    },
    {
      "cell_type": "markdown",
      "source": [
        "question 30"
      ],
      "metadata": {
        "id": "cfMm4bvqCvGA"
      }
    },
    {
      "cell_type": "code",
      "source": [
        "\n",
        "\n",
        "\n",
        "start_time = time.time()\n",
        "dot_product_list = sum(a * b for a, b in zip(l3, l4))\n",
        "python_time = time.time() - start_time\n",
        "print( python_time, \"seconds\")\n",
        "\n",
        "\n",
        "\n",
        "start_time = time.time()\n",
        "dot_product_numpy = np.dot(a3, a4)\n",
        "numpy_time = time.time() - start_time\n",
        "print( numpy_time, \"seconds\")"
      ],
      "metadata": {
        "colab": {
          "base_uri": "https://localhost:8080/"
        },
        "id": "ttAxSDoNCytj",
        "outputId": "9291c7b0-1276-48ee-ee33-5e9578a30b03"
      },
      "execution_count": 32,
      "outputs": [
        {
          "output_type": "stream",
          "name": "stdout",
          "text": [
            "0.12412071228027344 seconds\n",
            "0.0023441314697265625 seconds\n"
          ]
        }
      ]
    },
    {
      "cell_type": "markdown",
      "source": [
        "question 31"
      ],
      "metadata": {
        "id": "hoD3WBj-C9-R"
      }
    },
    {
      "cell_type": "code",
      "source": [
        "import time\n",
        "import numpy as np\n",
        "\n",
        "# Python lists\n",
        "m3 = [[i for i in range(100)] for j in range(100)]\n",
        "m4 = [[i for i in range(100)] for j in range(100)]\n",
        "\n",
        "start_time = time.time()\n",
        "result_matrix = [[sum(m3[i][k] * m4[k][j] for k in range(100)) for j in range(100)] for i in range(100)]\n",
        "python_time = time.time() - start_time\n",
        "print(\" Python lists time:\", python_time, \"seconds\")\n",
        "\n",
        "# Matrix multiplication using NumPy\n",
        "m3_np = np.random.rand(100, 100)\n",
        "m4_np = np.random.rand(100, 100)\n",
        "\n",
        "start_time = time.time()\n",
        "result_matrix_np = np.dot(m3_np, m4_np)\n",
        "numpy_time = time.time() - start_time\n",
        "print(\"MNumPy arrays time:\", numpy_time, \"seconds\")"
      ],
      "metadata": {
        "colab": {
          "base_uri": "https://localhost:8080/"
        },
        "id": "nxx83iu1C_Xq",
        "outputId": "f6fb65e2-3587-4a07-e3cd-0767b310eb9a"
      },
      "execution_count": 33,
      "outputs": [
        {
          "output_type": "stream",
          "name": "stdout",
          "text": [
            " Python lists time: 0.17827916145324707 seconds\n",
            "MNumPy arrays time: 0.0005166530609130859 seconds\n"
          ]
        }
      ]
    }
  ]
}