{
  "nbformat": 4,
  "nbformat_minor": 0,
  "metadata": {
    "colab": {
      "provenance": []
    },
    "kernelspec": {
      "name": "python3",
      "display_name": "Python 3"
    },
    "language_info": {
      "name": "python"
    }
  },
  "cells": [
    {
      "cell_type": "markdown",
      "source": [
        "1."
      ],
      "metadata": {
        "id": "NdB_ygDqiKV7"
      }
    },
    {
      "cell_type": "code",
      "execution_count": 11,
      "metadata": {
        "colab": {
          "base_uri": "https://localhost:8080/"
        },
        "id": "JTmXVm1ceIVw",
        "outputId": "0e56c8d8-d2c4-48b8-8d77-caf40fad3e3c"
      },
      "outputs": [
        {
          "output_type": "stream",
          "name": "stdout",
          "text": [
            "           x          y\n",
            "0  32.502345  31.707006\n",
            "1  53.426804  68.777596\n",
            "2  61.530358  62.562382\n",
            "3  47.475640  71.546632\n",
            "4  59.813208  87.230925\n",
            "<class 'pandas.core.frame.DataFrame'>\n",
            "RangeIndex: 100 entries, 0 to 99\n",
            "Data columns (total 2 columns):\n",
            " #   Column  Non-Null Count  Dtype  \n",
            "---  ------  --------------  -----  \n",
            " 0   x       100 non-null    float64\n",
            " 1   y       100 non-null    float64\n",
            "dtypes: float64(2)\n",
            "memory usage: 1.7 KB\n",
            "None\n",
            "Object columns: Index([], dtype='object')\n",
            "                x           y\n",
            "count  100.000000  100.000000\n",
            "mean    48.958341   72.735051\n",
            "std      9.746379   16.658187\n",
            "min     25.128485   31.707006\n",
            "25%     41.526164   60.788586\n",
            "50%     49.634970   72.179542\n",
            "75%     56.762631   83.215080\n",
            "max     70.346076  118.591217\n"
          ]
        }
      ],
      "source": [
        "import pandas as pd\n",
        "import matplotlib.pyplot as plt\n",
        "\n",
        "# Load data with correct file path formatting\n",
        "data = pd.read_csv(\"/content/drive/MyDrive/Concept and technolody of AI/data.csv\")\n",
        "\n",
        "# Display basic information\n",
        "print(data.head())\n",
        "print(data.info())\n",
        "\n",
        "# Identify columns of object data type\n",
        "object_columns = data.select_dtypes(include=['object']).columns\n",
        "print(\"Object columns:\", object_columns)\n",
        "\n",
        "# Loop through object columns to analyze unique values and null counts\n",
        "for col in object_columns:\n",
        "    unique = data[col].unique()\n",
        "    print(f\"Unique values in '{col}': {unique}\")\n",
        "    ncount = data[col].isnull().sum()\n",
        "    print(f\"Column '{col}' has {ncount} missing values\\n\")\n",
        "\n",
        "# Select numeric columns and save to new CSV\n",
        "numeric_data = data.select_dtypes(exclude=['object'])\n",
        "numeric_data.to_csv('banknumericdata.csv', index=False)\n",
        "\n",
        "# Load the numeric-only data and summarize\n",
        "numeric_summary_data = pd.read_csv('banknumericdata.csv')\n",
        "summary = numeric_summary_data.describe()\n",
        "print(summary)\n"
      ]
    },
    {
      "cell_type": "markdown",
      "source": [
        "2."
      ],
      "metadata": {
        "id": "KTrzp4XtiPmV"
      }
    },
    {
      "cell_type": "code",
      "source": [
        "import pandas as pd\n",
        "\n",
        "# Load the dataset\n",
        "df = pd.read_csv('/content/drive/MyDrive/Concept and technolody of AI/Titanic-Dataset (1).csv')\n",
        "\n",
        "# Select specific columns\n",
        "selected_columns_df = df[['Name', 'Pclass', 'Sex', 'Age', 'Fare', 'Survived']]\n",
        "\n",
        "# Filter rows for Pclass == 1\n",
        "first_class_df = selected_columns_df[selected_columns_df['Pclass'] == 1]\n",
        "\n",
        "# Calculate statistics for 'Fare'\n",
        "fare_mean = first_class_df['Fare'].mean()\n",
        "fare_median = first_class_df['Fare'].median()\n",
        "fare_max = first_class_df['Fare'].max()  # Avoid overriding Python built-in function names\n",
        "fare_min = first_class_df['Fare'].min()\n",
        "\n",
        "# Print statistics\n",
        "print(f\"Mean Fare: {fare_mean}\")\n",
        "print(f\"Median Fare: {fare_median}\")\n",
        "print(f\"Maximum Fare: {fare_max}\")\n",
        "print(f\"Minimum Fare: {fare_min}\")\n",
        "\n",
        "# Count and drop null values in the 'Age' column\n",
        "age_null_count = df['Age'].isnull().sum()\n",
        "print(f\"Null values in 'Age' column: {age_null_count}\")\n",
        "df = df.dropna(subset=['Age'])\n",
        "\n",
        "# Create dummy variables for 'Embarked' and replace the original column\n",
        "df = pd.get_dummies(df, columns=['Embarked'], prefix='Embarked')\n",
        "\n",
        "# Display the updated DataFrame\n",
        "print(df.head())\n"
      ],
      "metadata": {
        "colab": {
          "base_uri": "https://localhost:8080/"
        },
        "id": "LoJmQjhMiRQ7",
        "outputId": "3e6db41b-49ce-438e-80a5-d99c51eec487"
      },
      "execution_count": 14,
      "outputs": [
        {
          "output_type": "stream",
          "name": "stdout",
          "text": [
            "Mean Fare: 84.1546875\n",
            "Median Fare: 60.287499999999994\n",
            "Maximum Fare: 512.3292\n",
            "Minimum Fare: 0.0\n",
            "Null values in 'Age' column: 177\n",
            "   PassengerId  Survived  Pclass  \\\n",
            "0            1         0       3   \n",
            "1            2         1       1   \n",
            "2            3         1       3   \n",
            "3            4         1       1   \n",
            "4            5         0       3   \n",
            "\n",
            "                                                Name     Sex   Age  SibSp  \\\n",
            "0                            Braund, Mr. Owen Harris    male  22.0      1   \n",
            "1  Cumings, Mrs. John Bradley (Florence Briggs Th...  female  38.0      1   \n",
            "2                             Heikkinen, Miss. Laina  female  26.0      0   \n",
            "3       Futrelle, Mrs. Jacques Heath (Lily May Peel)  female  35.0      1   \n",
            "4                           Allen, Mr. William Henry    male  35.0      0   \n",
            "\n",
            "   Parch            Ticket     Fare Cabin  Embarked_C  Embarked_Q  Embarked_S  \n",
            "0      0         A/5 21171   7.2500   NaN       False       False        True  \n",
            "1      0          PC 17599  71.2833   C85        True       False       False  \n",
            "2      0  STON/O2. 3101282   7.9250   NaN       False       False        True  \n",
            "3      0            113803  53.1000  C123       False       False        True  \n",
            "4      0            373450   8.0500   NaN       False       False        True  \n"
          ]
        }
      ]
    },
    {
      "cell_type": "markdown",
      "source": [
        "3."
      ],
      "metadata": {
        "id": "7zS6yVlmiyPZ"
      }
    },
    {
      "cell_type": "code",
      "source": [
        "import pandas as pd\n",
        "import matplotlib.pyplot as plt\n",
        "\n",
        "# Load the Titanic dataset\n",
        "df = pd.read_csv('/content/drive/MyDrive/Concept and technolody of AI/Titanic-Dataset (1).csv')\n",
        "\n",
        "# Calculate mean survival rates by gender\n",
        "mean_survival_by_gender = df.groupby('Sex')['Survived'].mean()\n",
        "print(mean_survival_by_gender)\n",
        "\n",
        "# Plot mean survival rates by gender\n",
        "plt.figure(figsize=(6, 4))\n",
        "mean_survival_by_gender.plot(kind='bar', color=['black', 'pink'], alpha=0.7)\n",
        "plt.title('Mean Survival Rates by Gender')\n",
        "plt.ylabel('Mean Survival')\n",
        "plt.xlabel('Gender')\n",
        "plt.ylim(0, 1)\n",
        "plt.show()\n",
        "\n",
        "# Calculate mean survival rates by port of embarkation\n",
        "mean_survival_by_port = df.groupby('Embarked')['Survived'].mean()\n",
        "print(mean_survival_by_port)\n",
        "\n",
        "# Plot mean survival rates by port of embarkation\n",
        "plt.figure(figsize=(8, 6))\n",
        "mean_survival_by_port.plot(kind='bar', color=['black', 'pink', 'gray'], alpha=0.7)\n",
        "plt.title('Survival Rate by Port of Embarkation')\n",
        "plt.xlabel('Port of Embarkation')\n",
        "plt.ylabel('Survival Rate')\n",
        "plt.ylim(0, 1)\n",
        "plt.show()\n"
      ],
      "metadata": {
        "colab": {
          "base_uri": "https://localhost:8080/",
          "height": 1000
        },
        "id": "i0JbuqX5izhT",
        "outputId": "496da08b-df81-4180-a576-94c47e76dad5"
      },
      "execution_count": 17,
      "outputs": [
        {
          "output_type": "stream",
          "name": "stdout",
          "text": [
            "Sex\n",
            "female    0.742038\n",
            "male      0.188908\n",
            "Name: Survived, dtype: float64\n"
          ]
        },
        {
          "output_type": "display_data",
          "data": {
            "text/plain": [
              "<Figure size 600x400 with 1 Axes>"
            ],
            "image/png": "[encoded data removed]"
          },
          "metadata": {}
        },
        {
          "output_type": "stream",
          "name": "stdout",
          "text": [
            "Embarked\n",
            "C    0.553571\n",
            "Q    0.389610\n",
            "S    0.336957\n",
            "Name: Survived, dtype: float64\n"
          ]
        },
        {
          "output_type": "display_data",
          "data": {
            "text/plain": [
              "<Figure size 800x600 with 1 Axes>"
            ],
            "image/png": "[encoded data removed]"
          },
          "metadata": {}
        }
      ]
    }
  ]
}